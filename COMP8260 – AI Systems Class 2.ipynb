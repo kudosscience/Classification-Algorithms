{
 "cells": [
  {
   "cell_type": "markdown",
   "metadata": {},
   "source": [
    "# COMP8260 – AI Systems Class 2\n",
    "\n",
    "We are exploring classification on the adult dataset, which is designed to predict high\n",
    "income earners (>50k$) from US census information such as education, hours of\n",
    "work per week, etc. While approaching the exercises below it could be useful to keep the\n",
    "following pages open in your browser:  \n",
    "\n",
    "sklearn API https://scikit-learn.org/stable/modules/classes.html  \n",
    "\n",
    "pandas getting started tutorial\n",
    "https://pandas.pydata.org/docs/getting_started/intro_tutorials/index.html  \n",
    "\n",
    "pyplot tutorial https://matplotlib.org/stable/tutorials/introductory/pyplot.html"
   ]
  },
  {
   "cell_type": "code",
   "execution_count": 3,
   "metadata": {},
   "outputs": [
    {
     "name": "stderr",
     "output_type": "stream",
     "text": [
      "/opt/jupyterhub/pyvenv/lib/python3.10/site-packages/sklearn/datasets/_openml.py:1022: FutureWarning: The default value of `parser` will change from `'liac-arff'` to `'auto'` in 1.4. You can set `parser='auto'` to silence this warning. Therefore, an `ImportError` will be raised from 1.4 if the dataset is dense and pandas is not installed. Note that the pandas parser may return different data types. See the Notes Section in fetch_openml's API doc for details.\n",
      "  warn(\n"
     ]
    }
   ],
   "source": [
    "import sklearn as sk\n",
    "import numpy as np\n",
    "import pandas as pd\n",
    "import matplotlib.pyplot as plt\n",
    "\n",
    "from sklearn import datasets\n",
    "\n",
    "# Load the adult dataset (version 2) from openml.org using the sklearn.datasets.fetch_openml function.\n",
    "# The dataset contains 48842 instances, 14 attributes and 2 classes (binary classification).\n",
    "# The data is stored in a pandas dataframe.\n",
    "adult = datasets.fetch_openml('adult', version=2, as_frame=True)"
   ]
  },
  {
   "cell_type": "code",
   "execution_count": 4,
   "metadata": {},
   "outputs": [
    {
     "name": "stdout",
     "output_type": "stream",
     "text": [
      "<class 'pandas.core.frame.DataFrame'>\n",
      "RangeIndex: 48842 entries, 0 to 48841\n",
      "Data columns (total 14 columns):\n",
      " #   Column          Non-Null Count  Dtype   \n",
      "---  ------          --------------  -----   \n",
      " 0   age             48842 non-null  float64 \n",
      " 1   workclass       46043 non-null  category\n",
      " 2   fnlwgt          48842 non-null  float64 \n",
      " 3   education       48842 non-null  category\n",
      " 4   education-num   48842 non-null  float64 \n",
      " 5   marital-status  48842 non-null  category\n",
      " 6   occupation      46033 non-null  category\n",
      " 7   relationship    48842 non-null  category\n",
      " 8   race            48842 non-null  category\n",
      " 9   sex             48842 non-null  category\n",
      " 10  capital-gain    48842 non-null  float64 \n",
      " 11  capital-loss    48842 non-null  float64 \n",
      " 12  hours-per-week  48842 non-null  float64 \n",
      " 13  native-country  47985 non-null  category\n",
      "dtypes: category(8), float64(6)\n",
      "memory usage: 2.6 MB\n"
     ]
    }
   ],
   "source": [
    "# Print the type of each feature to see if they are \n",
    "# categorical or numeric (hint you can use pandas.Dataframe.info to get \n",
    "# information about columns in the DataFrame)\n",
    "adult.data.info()"
   ]
  },
  {
   "cell_type": "code",
   "execution_count": 5,
   "metadata": {},
   "outputs": [
    {
     "name": "stdout",
     "output_type": "stream",
     "text": [
      "(48842, 14)\n",
      "class\n",
      "<=50K    37155\n",
      ">50K     11687\n",
      "Name: count, dtype: int64\n"
     ]
    }
   ],
   "source": [
    "# Print out the size of the dataset (number of instances) and the \n",
    "# distribution of the target across the two classes using \n",
    "# pandas.Series.value_counts\n",
    "print(adult.data.shape)\n",
    "print(adult.target.value_counts())"
   ]
  },
  {
   "cell_type": "code",
   "execution_count": 6,
   "metadata": {},
   "outputs": [
    {
     "name": "stdout",
     "output_type": "stream",
     "text": [
      "(32724, 14)\n",
      "(16118, 14)\n",
      "(32724,)\n",
      "(16118,)\n"
     ]
    }
   ],
   "source": [
    "# Split the data into a train datasets (X_train, y_train) and test dataset \n",
    "# (X_test, y_test), using the sklearn.model_selection. \n",
    "# train_test_split function. Verify the size of each dataset looking at the \n",
    "# shape attribute.\n",
    "from sklearn.model_selection import train_test_split\n",
    "X_train, X_test, y_train, y_test = train_test_split(adult.data, adult.target, test_size=0.33, random_state=42) \n",
    "print(X_train.shape)\n",
    "print(X_test.shape)\n",
    "print(y_train.shape)\n",
    "print(y_test.shape)"
   ]
  },
  {
   "cell_type": "code",
   "execution_count": 7,
   "metadata": {},
   "outputs": [],
   "source": [
    "# Create an X_train_num training dataset by dropping the non-numerical features \n",
    "# from the input data, (Hint you can select the relevant columns using [] and a list of \n",
    "# column names, or use pandas.Dataframe.drop to drop the categorical \n",
    "# columns or use pandas.DataFrame.select_dtypes).\n",
    "X_train_num = X_train.select_dtypes(include=np.number)"
   ]
  },
  {
   "cell_type": "code",
   "execution_count": 8,
   "metadata": {},
   "outputs": [
    {
     "name": "stdout",
     "output_type": "stream",
     "text": [
      "0.9989610072118323\n",
      "0.7746618687182033\n",
      "57\n",
      "6651\n"
     ]
    }
   ],
   "source": [
    "# Train a DecisionTreeClassifier with default parameters to predict the \n",
    "# target class from the numerical attributes of input using its fit method. Compute the \n",
    "# accuracy of the classifier over the training data and the test data. Hint: you can use \n",
    "# the predict method of the classifier to obtain the predicted labels from the train \n",
    "# and test inputs and use sklearn.metrics.accuracy_score to compute the \n",
    "# accuracy. Does the decision tree seem to overfit? Why? Print out the depth and the \n",
    "# number of leaves for the tree.\n",
    "from sklearn.tree import DecisionTreeClassifier\n",
    "from sklearn.metrics import accuracy_score\n",
    "dt = DecisionTreeClassifier()\n",
    "dt.fit(X_train_num, y_train)\n",
    "y_pred_train = dt.predict(X_train_num)\n",
    "y_pred_test = dt.predict(X_test.select_dtypes(include=np.number))\n",
    "print(accuracy_score(y_train, y_pred_train))\n",
    "print(accuracy_score(y_test, y_pred_test))\n",
    "print(dt.get_depth())\n",
    "print(dt.get_n_leaves())"
   ]
  },
  {
   "cell_type": "code",
   "execution_count": 9,
   "metadata": {},
   "outputs": [
    {
     "data": {
      "image/png": "[encoded data removed]",
      "text/plain": [
       "<Figure size 640x480 with 1 Axes>"
      ]
     },
     "metadata": {},
     "output_type": "display_data"
    }
   ],
   "source": [
    "# Plot the training and testing accuracy vs the maximum tree depth.\n",
    "train_acc = []\n",
    "test_acc = []\n",
    "for i in range(1, 30):\n",
    "    dt = DecisionTreeClassifier(max_depth=i)\n",
    "    dt.fit(X_train_num, y_train)\n",
    "    y_pred_train = dt.predict(X_train_num)\n",
    "    y_pred_test = dt.predict(X_test.select_dtypes(include=np.number))\n",
    "    train_acc.append(accuracy_score(y_train, y_pred_train))\n",
    "    test_acc.append(accuracy_score(y_test, y_pred_test))\n",
    "plt.plot(range(1, 30), train_acc, label=\"Training Accuracy\")\n",
    "plt.plot(range(1, 30), test_acc, label=\"Testing Accuracy\")\n",
    "plt.xlabel(\"Max Depth\")\n",
    "plt.ylabel(\"Accuracy\")\n",
    "plt.legend()\n",
    "plt.show()"
   ]
  },
  {
   "cell_type": "code",
   "execution_count": 10,
   "metadata": {},
   "outputs": [
    {
     "data": {
      "image/png": "[encoded data removed]",
      "text/plain": [
       "<Figure size 640x480 with 1 Axes>"
      ]
     },
     "metadata": {},
     "output_type": "display_data"
    }
   ],
   "source": [
    "# Change the plot above to show the average 3-fold training and validation score using \n",
    "# the cross_validate function. Hint: to return the training scores for each fold you need \n",
    "# to specify return_train_score=True\n",
    "from sklearn.model_selection import cross_validate\n",
    "train_acc = []\n",
    "test_acc = []\n",
    "for i in range(1, 30):\n",
    "    dt = DecisionTreeClassifier(max_depth=i)\n",
    "    scores = cross_validate(dt, X_train_num, y_train, cv=3, return_train_score=True)\n",
    "    train_acc.append(scores['train_score'].mean())\n",
    "    test_acc.append(scores['test_score'].mean())\n",
    "plt.plot(range(1, 30), train_acc, label=\"Training Accuracy\")\n",
    "plt.plot(range(1, 30), test_acc, label=\"Testing Accuracy\")\n",
    "plt.xlabel(\"Max Depth\")\n",
    "plt.ylabel(\"Accuracy\")\n",
    "plt.legend()\n",
    "plt.show()"
   ]
  },
  {
   "cell_type": "code",
   "execution_count": 11,
   "metadata": {},
   "outputs": [
    {
     "name": "stdout",
     "output_type": "stream",
     "text": [
      "{'max_depth': 9, 'min_samples_leaf': 6, 'min_samples_split': 9}\n",
      "0.8337000366703337\n",
      "9\n",
      "164\n"
     ]
    }
   ],
   "source": [
    "# Use sklearn.model_selection.GridSearchCV to find the best combination of max_depth, \n",
    "# min_samples_split and min_samples_leaf to constrain the complexity of the tree. \n",
    "# Keep each parameter to max 3-4 choices or the computation would take a long \n",
    "# amount of time.\n",
    "from sklearn.model_selection import GridSearchCV\n",
    "dt = DecisionTreeClassifier()\n",
    "params = {'max_depth': range(1, 10), 'min_samples_split': range(2, 10), 'min_samples_leaf': range(1, 10)}\n",
    "gs = GridSearchCV(dt, params, cv=3)\n",
    "gs.fit(X_train_num, y_train)\n",
    "print(gs.best_params_)\n",
    "print(gs.best_score_)\n",
    "print(gs.best_estimator_.get_depth())\n",
    "print(gs.best_estimator_.get_n_leaves())"
   ]
  },
  {
   "cell_type": "code",
   "execution_count": 12,
   "metadata": {},
   "outputs": [
    {
     "name": "stdout",
     "output_type": "stream",
     "text": [
      "0.8644419997555312\n",
      "0.8226827149770443\n"
     ]
    }
   ],
   "source": [
    "# Obtain an X_train_cat by keeping only the categorical features from X_train. \n",
    "# Sklearn’s DecisionTreeClassifier implementation does not natively support learning \n",
    "# from categorical features. Use sklearn.preprocessing.OneHotEncoder to transform \n",
    "# X_train_cat into X_train_enc (using the fit and the transform method) and train a \n",
    "# DecisionTreeClassifier using it. Compare its test and training performance with the \n",
    "# decision tree computed using the numerical features.\n",
    "from sklearn.preprocessing import OneHotEncoder\n",
    "X_train_cat = X_train.select_dtypes(exclude=np.number)\n",
    "enc = OneHotEncoder()\n",
    "enc.fit(X_train_cat)\n",
    "X_train_enc = enc.transform(X_train_cat)\n",
    "dt = DecisionTreeClassifier()\n",
    "dt.fit(X_train_enc, y_train)\n",
    "y_pred_train = dt.predict(X_train_enc)\n",
    "y_pred_test = dt.predict(enc.transform(X_test.select_dtypes(exclude=np.number)))\n",
    "print(accuracy_score(y_train, y_pred_train))\n",
    "print(accuracy_score(y_test, y_pred_test)) "
   ]
  },
  {
   "cell_type": "code",
   "execution_count": 13,
   "metadata": {},
   "outputs": [
    {
     "name": "stdout",
     "output_type": "stream",
     "text": [
      "workclass         1888\n",
      "education            0\n",
      "marital-status       0\n",
      "occupation        1896\n",
      "relationship         0\n",
      "race                 0\n",
      "sex                  0\n",
      "native-country     563\n",
      "dtype: int64\n",
      "['workclass_Federal-gov' 'workclass_Local-gov' 'workclass_Never-worked'\n",
      " 'workclass_Private' 'workclass_Self-emp-inc' 'workclass_Self-emp-not-inc'\n",
      " 'workclass_State-gov' 'workclass_Without-pay' 'workclass_nan'\n",
      " 'education_10th' 'education_11th' 'education_12th' 'education_1st-4th'\n",
      " 'education_5th-6th' 'education_7th-8th' 'education_9th'\n",
      " 'education_Assoc-acdm' 'education_Assoc-voc' 'education_Bachelors'\n",
      " 'education_Doctorate' 'education_HS-grad' 'education_Masters'\n",
      " 'education_Preschool' 'education_Prof-school' 'education_Some-college'\n",
      " 'marital-status_Divorced' 'marital-status_Married-AF-spouse'\n",
      " 'marital-status_Married-civ-spouse'\n",
      " 'marital-status_Married-spouse-absent' 'marital-status_Never-married'\n",
      " 'marital-status_Separated' 'marital-status_Widowed'\n",
      " 'occupation_Adm-clerical' 'occupation_Armed-Forces'\n",
      " 'occupation_Craft-repair' 'occupation_Exec-managerial'\n",
      " 'occupation_Farming-fishing' 'occupation_Handlers-cleaners'\n",
      " 'occupation_Machine-op-inspct' 'occupation_Other-service'\n",
      " 'occupation_Priv-house-serv' 'occupation_Prof-specialty'\n",
      " 'occupation_Protective-serv' 'occupation_Sales' 'occupation_Tech-support'\n",
      " 'occupation_Transport-moving' 'occupation_nan' 'relationship_Husband'\n",
      " 'relationship_Not-in-family' 'relationship_Other-relative'\n",
      " 'relationship_Own-child' 'relationship_Unmarried' 'relationship_Wife'\n",
      " 'race_Amer-Indian-Eskimo' 'race_Asian-Pac-Islander' 'race_Black'\n",
      " 'race_Other' 'race_White' 'sex_Female' 'sex_Male'\n",
      " 'native-country_Cambodia' 'native-country_Canada' 'native-country_China'\n",
      " 'native-country_Columbia' 'native-country_Cuba'\n",
      " 'native-country_Dominican-Republic' 'native-country_Ecuador'\n",
      " 'native-country_El-Salvador' 'native-country_England'\n",
      " 'native-country_France' 'native-country_Germany' 'native-country_Greece'\n",
      " 'native-country_Guatemala' 'native-country_Haiti'\n",
      " 'native-country_Holand-Netherlands' 'native-country_Honduras'\n",
      " 'native-country_Hong' 'native-country_Hungary' 'native-country_India'\n",
      " 'native-country_Iran' 'native-country_Ireland' 'native-country_Italy'\n",
      " 'native-country_Jamaica' 'native-country_Japan' 'native-country_Laos'\n",
      " 'native-country_Mexico' 'native-country_Nicaragua'\n",
      " 'native-country_Outlying-US(Guam-USVI-etc)' 'native-country_Peru'\n",
      " 'native-country_Philippines' 'native-country_Poland'\n",
      " 'native-country_Portugal' 'native-country_Puerto-Rico'\n",
      " 'native-country_Scotland' 'native-country_South' 'native-country_Taiwan'\n",
      " 'native-country_Thailand' 'native-country_Trinadad&Tobago'\n",
      " 'native-country_United-States' 'native-country_Vietnam'\n",
      " 'native-country_Yugoslavia' 'native-country_nan']\n"
     ]
    }
   ],
   "source": [
    "# Did X_train_cat contain any missing values? Can you figure out what happened to \n",
    "# the missing values during the encoding by looking at the output of the \n",
    "# get_feature_names_out() method of the encoder?\n",
    "print(X_train_cat.isna().sum())\n",
    "print(enc.get_feature_names_out())"
   ]
  },
  {
   "cell_type": "code",
   "execution_count": 17,
   "metadata": {},
   "outputs": [
    {
     "name": "stdout",
     "output_type": "stream",
     "text": [
      "0.8619361936193619\n",
      "0.8211316540513711\n",
      "['x0_Federal-gov' 'x0_Local-gov' 'x0_Never-worked' 'x0_Private'\n",
      " 'x0_Self-emp-inc' 'x0_Self-emp-not-inc' 'x0_State-gov' 'x0_Without-pay'\n",
      " 'x1_10th' 'x1_11th' 'x1_12th' 'x1_1st-4th' 'x1_5th-6th' 'x1_7th-8th'\n",
      " 'x1_9th' 'x1_Assoc-acdm' 'x1_Assoc-voc' 'x1_Bachelors' 'x1_Doctorate'\n",
      " 'x1_HS-grad' 'x1_Masters' 'x1_Preschool' 'x1_Prof-school'\n",
      " 'x1_Some-college' 'x2_Divorced' 'x2_Married-AF-spouse'\n",
      " 'x2_Married-civ-spouse' 'x2_Married-spouse-absent' 'x2_Never-married'\n",
      " 'x2_Separated' 'x2_Widowed' 'x3_Adm-clerical' 'x3_Armed-Forces'\n",
      " 'x3_Craft-repair' 'x3_Exec-managerial' 'x3_Farming-fishing'\n",
      " 'x3_Handlers-cleaners' 'x3_Machine-op-inspct' 'x3_Other-service'\n",
      " 'x3_Priv-house-serv' 'x3_Prof-specialty' 'x3_Protective-serv' 'x3_Sales'\n",
      " 'x3_Tech-support' 'x3_Transport-moving' 'x4_Husband' 'x4_Not-in-family'\n",
      " 'x4_Other-relative' 'x4_Own-child' 'x4_Unmarried' 'x4_Wife'\n",
      " 'x5_Amer-Indian-Eskimo' 'x5_Asian-Pac-Islander' 'x5_Black' 'x5_Other'\n",
      " 'x5_White' 'x6_Female' 'x6_Male' 'x7_Cambodia' 'x7_Canada' 'x7_China'\n",
      " 'x7_Columbia' 'x7_Cuba' 'x7_Dominican-Republic' 'x7_Ecuador'\n",
      " 'x7_El-Salvador' 'x7_England' 'x7_France' 'x7_Germany' 'x7_Greece'\n",
      " 'x7_Guatemala' 'x7_Haiti' 'x7_Holand-Netherlands' 'x7_Honduras' 'x7_Hong'\n",
      " 'x7_Hungary' 'x7_India' 'x7_Iran' 'x7_Ireland' 'x7_Italy' 'x7_Jamaica'\n",
      " 'x7_Japan' 'x7_Laos' 'x7_Mexico' 'x7_Nicaragua'\n",
      " 'x7_Outlying-US(Guam-USVI-etc)' 'x7_Peru' 'x7_Philippines' 'x7_Poland'\n",
      " 'x7_Portugal' 'x7_Puerto-Rico' 'x7_Scotland' 'x7_South' 'x7_Taiwan'\n",
      " 'x7_Thailand' 'x7_Trinadad&Tobago' 'x7_United-States' 'x7_Vietnam'\n",
      " 'x7_Yugoslavia']\n"
     ]
    }
   ],
   "source": [
    "# Use SimpleImputer to fill in the missing values in X_train_cat using the most frequent value of the \n",
    "# missing attributes before encoding. Print the set of encoded features \n",
    "# and the classification performance\n",
    "from sklearn.impute import SimpleImputer\n",
    "imp = SimpleImputer(strategy='most_frequent')\n",
    "# Fit the SimpleImputer on the entire dataset\n",
    "imp.fit(pd.concat([X_train_cat, X_test.select_dtypes(exclude=np.number)]))\n",
    "\n",
    "# Transform the training and test data\n",
    "X_train_cat_imp = pd.DataFrame(imp.transform(X_train_cat))\n",
    "X_test_cat_imp = pd.DataFrame(imp.transform(X_test.select_dtypes(exclude=np.number)))\n",
    "\n",
    "# Fit the OneHotEncoder on the imputed dataset\n",
    "enc.fit(pd.concat([X_train_cat_imp, X_test_cat_imp]))\n",
    "\n",
    "# Transform the training and test data\n",
    "X_train_enc = enc.transform(X_train_cat_imp)\n",
    "X_test_enc = enc.transform(X_test_cat_imp)\n",
    "\n",
    "# Continue with the rest of your code...\n",
    "dt = DecisionTreeClassifier()\n",
    "dt.fit(X_train_enc, y_train)\n",
    "y_pred_train = dt.predict(X_train_enc)\n",
    "y_pred_test = dt.predict(X_test_enc)\n",
    "print(accuracy_score(y_train, y_pred_train))\n",
    "print(accuracy_score(y_test, y_pred_test))\n",
    "print(enc.get_feature_names_out())"
   ]
  },
  {
   "cell_type": "code",
   "execution_count": 18,
   "metadata": {},
   "outputs": [
    {
     "name": "stdout",
     "output_type": "stream",
     "text": [
      "0.8619361936193619\n",
      "0.8213177813624519\n"
     ]
    }
   ],
   "source": [
    "# Automate the use of SimpleImputer and OneHotEncoder by creating a Pipeline. \n",
    "# Create a Pipeline with a SimpleImputer, OneHotEncoder and a \n",
    "# DecisionTreeClassifier. Train and verify the accuracy of the pipeline.\n",
    "from sklearn.pipeline import Pipeline\n",
    "pipe = Pipeline([('imputer', SimpleImputer(strategy='most_frequent')), ('encoder', OneHotEncoder()), ('dt', DecisionTreeClassifier())])\n",
    "pipe.fit(X_train_cat, y_train)\n",
    "y_pred_train = pipe.predict(X_train_cat)\n",
    "y_pred_test = pipe.predict(X_test.select_dtypes(exclude=np.number))\n",
    "print(accuracy_score(y_train, y_pred_train))\n",
    "print(accuracy_score(y_test, y_pred_test))"
   ]
  },
  {
   "cell_type": "code",
   "execution_count": 19,
   "metadata": {},
   "outputs": [
    {
     "name": "stdout",
     "output_type": "stream",
     "text": [
      "0.9999083241657499\n",
      "0.8208834843032634\n"
     ]
    }
   ],
   "source": [
    "#  It would be nice see if a Decision Tree classifier would be able to reach a higher \n",
    "# accuracy by considering both categorical and numerical features. To do so we could \n",
    "# start from the full dataset X_train and apply a transformer to only a subset of the \n",
    "# attributes (DataFrame columns). Use a ColumnTransformer to apply the categorical \n",
    "# pre-processing pipeline (composed by an Imputer and one OneHotEncoder) to the \n",
    "# categorical attributes of the data, leaving the numerical attribute unaltered (hint: \n",
    "# have a look at the remainder parameter of ColumnTransformer).\n",
    "from sklearn.compose import ColumnTransformer\n",
    "pipe = Pipeline([('imputer', SimpleImputer(strategy='most_frequent')), ('encoder', OneHotEncoder())])\n",
    "ct = ColumnTransformer([('cat', pipe, X_train_cat.columns)], remainder='passthrough')\n",
    "ct.fit(X_train)\n",
    "X_train_enc = ct.transform(X_train)\n",
    "X_test_enc = ct.transform(X_test)\n",
    "dt = DecisionTreeClassifier()\n",
    "dt.fit(X_train_enc, y_train)\n",
    "y_pred_train = dt.predict(X_train_enc)\n",
    "y_pred_test = dt.predict(X_test_enc)\n",
    "print(accuracy_score(y_train, y_pred_train))\n",
    "print(accuracy_score(y_test, y_pred_test))"
   ]
  },
  {
   "cell_type": "code",
   "execution_count": 20,
   "metadata": {},
   "outputs": [
    {
     "name": "stdout",
     "output_type": "stream",
     "text": [
      "0.9999083241657499\n",
      "0.8206973569921826\n"
     ]
    }
   ],
   "source": [
    "# Define a Pipeline composed of the ColumnTransformer above and a \n",
    "# DecisionTreeClassifier and train and verify the accuracy of the Pipeline. Does the use \n",
    "# of both types of features improve the accuracy?\n",
    "pipe = Pipeline([('ct', ct), ('dt', DecisionTreeClassifier())])\n",
    "pipe.fit(X_train, y_train)\n",
    "y_pred_train = pipe.predict(X_train)\n",
    "y_pred_test = pipe.predict(X_test)\n",
    "print(accuracy_score(y_train, y_pred_train))\n",
    "print(accuracy_score(y_test, y_pred_test))"
   ]
  },
  {
   "cell_type": "code",
   "execution_count": 21,
   "metadata": {},
   "outputs": [
    {
     "name": "stdout",
     "output_type": "stream",
     "text": [
      "0.9998777655543332\n",
      "0.8594738801340117\n",
      "65\n",
      "5876\n"
     ]
    }
   ],
   "source": [
    "# Train a RandomForestClassifier on the full dataset, modifying the pipeline of the \n",
    "# previous point. Compare the training and testing accuracy with the previous cases: \n",
    "# does the classifier overfit the data? How does the accuracy compare with the \n",
    "# previous DecisionTrees? Print out the size of each tree in the ensemble\n",
    "from sklearn.ensemble import RandomForestClassifier\n",
    "pipe = Pipeline([('ct', ct), ('rf', RandomForestClassifier())])\n",
    "pipe.fit(X_train, y_train)\n",
    "y_pred_train = pipe.predict(X_train)\n",
    "y_pred_test = pipe.predict(X_test)\n",
    "print(accuracy_score(y_train, y_pred_train))\n",
    "print(accuracy_score(y_test, y_pred_test))\n",
    "print(pipe['rf'].estimators_[0].get_depth())\n",
    "print(pipe['rf'].estimators_[0].get_n_leaves())"
   ]
  },
  {
   "cell_type": "code",
   "execution_count": 24,
   "metadata": {},
   "outputs": [
    {
     "name": "stdout",
     "output_type": "stream",
     "text": [
      "0.8579330155237745\n",
      "0.8659883360218389\n",
      "1\n",
      "2\n",
      "0.7590453489793424\n",
      "0.7641146544236258\n",
      "2\n",
      "4\n"
     ]
    }
   ],
   "source": [
    "# Train an AdaBoostClassifier on the dataset. Compare train and test accuracy with \n",
    "# random forest print out the size of each tree in the ensemble. Compare the \n",
    "# performance of the classifier with a RandomForestClassifier that uses the same \n",
    "# number of trees and max_depth as the AdaBoostClassifier.\n",
    "from sklearn.ensemble import AdaBoostClassifier\n",
    "pipe = Pipeline([('ct', ct), ('ada', AdaBoostClassifier())])\n",
    "pipe.fit(X_train, y_train)\n",
    "y_pred_train = pipe.predict(X_train)\n",
    "y_pred_test = pipe.predict(X_test)\n",
    "print(accuracy_score(y_train, y_pred_train))\n",
    "print(accuracy_score(y_test, y_pred_test))\n",
    "print(pipe['ada'].estimators_[0].get_depth())\n",
    "print(pipe['ada'].estimators_[0].get_n_leaves())\n",
    "pipe = Pipeline([('ct', ct), ('rf', RandomForestClassifier(n_estimators=1, max_depth=2))])\n",
    "pipe.fit(X_train, y_train)\n",
    "y_pred_train = pipe.predict(X_train)\n",
    "y_pred_test = pipe.predict(X_test)\n",
    "print(accuracy_score(y_train, y_pred_train))\n",
    "print(accuracy_score(y_test, y_pred_test))\n",
    "print(pipe['rf'].estimators_[0].get_depth())\n",
    "print(pipe['rf'].estimators_[0].get_n_leaves())"
   ]
  },
  {
   "cell_type": "code",
   "execution_count": 23,
   "metadata": {},
   "outputs": [
    {
     "name": "stdout",
     "output_type": "stream",
     "text": [
      "0.8674673022857842\n",
      "0.8723787070356124\n",
      "3\n",
      "8\n"
     ]
    }
   ],
   "source": [
    "# Train a GradientBoostingClassifier on the dataset and compare the performance \n",
    "# with the above.\n",
    "from sklearn.ensemble import GradientBoostingClassifier\n",
    "pipe = Pipeline([('ct', ct), ('gb', GradientBoostingClassifier())])\n",
    "pipe.fit(X_train, y_train)\n",
    "y_pred_train = pipe.predict(X_train)\n",
    "y_pred_test = pipe.predict(X_test)\n",
    "print(accuracy_score(y_train, y_pred_train))\n",
    "print(accuracy_score(y_test, y_pred_test))\n",
    "print(pipe['gb'].estimators_[0][0].get_depth())\n",
    "print(pipe['gb'].estimators_[0][0].get_n_leaves())  "
   ]
  }
 ],
 "metadata": {
  "kernelspec": {
   "display_name": "Python 3 (ipykernel)",
   "language": "python",
   "name": "python3"
  },
  "language_info": {
   "codemirror_mode": {
    "name": "ipython",
    "version": 3
   },
   "file_extension": ".py",
   "mimetype": "text/x-python",
   "name": "python",
   "nbconvert_exporter": "python",
   "pygments_lexer": "ipython3",
   "version": "3.10.12"
  }
 },
 "nbformat": 4,
 "nbformat_minor": 2
}
